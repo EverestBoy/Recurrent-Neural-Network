{
 "cells": [
  {
   "cell_type": "markdown",
   "metadata": {},
   "source": [
    "### Importing dataset"
   ]
  },
  {
   "cell_type": "code",
   "execution_count": 1,
   "metadata": {},
   "outputs": [],
   "source": [
    "import pandas as pd"
   ]
  },
  {
   "cell_type": "code",
   "execution_count": 2,
   "metadata": {},
   "outputs": [],
   "source": [
    "dataTrain = pd.read_csv(\"../Google_Stock_Price_Train.csv\")\n",
    "dataTest = pd.read_csv(\"../Google_Stock_Price_Test.csv\")"
   ]
  },
  {
   "cell_type": "code",
   "execution_count": 3,
   "metadata": {},
   "outputs": [
    {
     "data": {
      "text/html": [
       "<div>\n",
       "<style scoped>\n",
       "    .dataframe tbody tr th:only-of-type {\n",
       "        vertical-align: middle;\n",
       "    }\n",
       "\n",
       "    .dataframe tbody tr th {\n",
       "        vertical-align: top;\n",
       "    }\n",
       "\n",
       "    .dataframe thead th {\n",
       "        text-align: right;\n",
       "    }\n",
       "</style>\n",
       "<table border=\"1\" class=\"dataframe\">\n",
       "  <thead>\n",
       "    <tr style=\"text-align: right;\">\n",
       "      <th></th>\n",
       "      <th>Date</th>\n",
       "      <th>Open</th>\n",
       "      <th>High</th>\n",
       "      <th>Low</th>\n",
       "      <th>Close</th>\n",
       "      <th>Volume</th>\n",
       "    </tr>\n",
       "  </thead>\n",
       "  <tbody>\n",
       "    <tr>\n",
       "      <td>0</td>\n",
       "      <td>1/3/2012</td>\n",
       "      <td>325.25</td>\n",
       "      <td>332.83</td>\n",
       "      <td>324.97</td>\n",
       "      <td>663.59</td>\n",
       "      <td>7,380,500</td>\n",
       "    </tr>\n",
       "    <tr>\n",
       "      <td>1</td>\n",
       "      <td>1/4/2012</td>\n",
       "      <td>331.27</td>\n",
       "      <td>333.87</td>\n",
       "      <td>329.08</td>\n",
       "      <td>666.45</td>\n",
       "      <td>5,749,400</td>\n",
       "    </tr>\n",
       "    <tr>\n",
       "      <td>2</td>\n",
       "      <td>1/5/2012</td>\n",
       "      <td>329.83</td>\n",
       "      <td>330.75</td>\n",
       "      <td>326.89</td>\n",
       "      <td>657.21</td>\n",
       "      <td>6,590,300</td>\n",
       "    </tr>\n",
       "    <tr>\n",
       "      <td>3</td>\n",
       "      <td>1/6/2012</td>\n",
       "      <td>328.34</td>\n",
       "      <td>328.77</td>\n",
       "      <td>323.68</td>\n",
       "      <td>648.24</td>\n",
       "      <td>5,405,900</td>\n",
       "    </tr>\n",
       "    <tr>\n",
       "      <td>4</td>\n",
       "      <td>1/9/2012</td>\n",
       "      <td>322.04</td>\n",
       "      <td>322.29</td>\n",
       "      <td>309.46</td>\n",
       "      <td>620.76</td>\n",
       "      <td>11,688,800</td>\n",
       "    </tr>\n",
       "  </tbody>\n",
       "</table>\n",
       "</div>"
      ],
      "text/plain": [
       "       Date    Open    High     Low   Close      Volume\n",
       "0  1/3/2012  325.25  332.83  324.97  663.59   7,380,500\n",
       "1  1/4/2012  331.27  333.87  329.08  666.45   5,749,400\n",
       "2  1/5/2012  329.83  330.75  326.89  657.21   6,590,300\n",
       "3  1/6/2012  328.34  328.77  323.68  648.24   5,405,900\n",
       "4  1/9/2012  322.04  322.29  309.46  620.76  11,688,800"
      ]
     },
     "execution_count": 3,
     "metadata": {},
     "output_type": "execute_result"
    }
   ],
   "source": [
    "dataTrain.head()"
   ]
  },
  {
   "cell_type": "code",
   "execution_count": 4,
   "metadata": {},
   "outputs": [
    {
     "data": {
      "text/plain": [
       "Date      0\n",
       "Open      0\n",
       "High      0\n",
       "Low       0\n",
       "Close     0\n",
       "Volume    0\n",
       "dtype: int64"
      ]
     },
     "execution_count": 4,
     "metadata": {},
     "output_type": "execute_result"
    }
   ],
   "source": [
    "dataTrain.isnull().sum()"
   ]
  },
  {
   "cell_type": "code",
   "execution_count": 5,
   "metadata": {},
   "outputs": [
    {
     "data": {
      "text/plain": [
       "Date      0\n",
       "Open      0\n",
       "High      0\n",
       "Low       0\n",
       "Close     0\n",
       "Volume    0\n",
       "dtype: int64"
      ]
     },
     "execution_count": 5,
     "metadata": {},
     "output_type": "execute_result"
    }
   ],
   "source": [
    "dataTest.isnull().sum()"
   ]
  },
  {
   "cell_type": "code",
   "execution_count": null,
   "metadata": {},
   "outputs": [],
   "source": []
  },
  {
   "cell_type": "markdown",
   "metadata": {},
   "source": [
    "## Visulizing the dataset"
   ]
  },
  {
   "cell_type": "code",
   "execution_count": 6,
   "metadata": {},
   "outputs": [],
   "source": [
    "import matplotlib.pyplot as plt"
   ]
  },
  {
   "cell_type": "code",
   "execution_count": 7,
   "metadata": {},
   "outputs": [
    {
     "data": {
      "text/plain": [
       "[<matplotlib.lines.Line2D at 0x7feaf2a87290>]"
      ]
     },
     "execution_count": 7,
     "metadata": {},
     "output_type": "execute_result"
    },
    {
     "data": {
      "image/png": "[encoded data removed]",
      "text/plain": [
       "<Figure size 432x288 with 1 Axes>"
      ]
     },
     "metadata": {
      "needs_background": "light"
     },
     "output_type": "display_data"
    }
   ],
   "source": [
    "plt.plot(dataTrain.Open)"
   ]
  },
  {
   "cell_type": "code",
   "execution_count": 8,
   "metadata": {},
   "outputs": [
    {
     "data": {
      "text/plain": [
       "[<matplotlib.lines.Line2D at 0x7feaf29a04d0>]"
      ]
     },
     "execution_count": 8,
     "metadata": {},
     "output_type": "execute_result"
    },
    {
     "data": {
      "image/png": "[encoded data removed]",
      "text/plain": [
       "<Figure size 432x288 with 1 Axes>"
      ]
     },
     "metadata": {
      "needs_background": "light"
     },
     "output_type": "display_data"
    }
   ],
   "source": [
    "plt.plot(dataTest.Open)"
   ]
  },
  {
   "cell_type": "code",
   "execution_count": null,
   "metadata": {},
   "outputs": [],
   "source": []
  },
  {
   "cell_type": "markdown",
   "metadata": {},
   "source": [
    "### Extracting dataset for training"
   ]
  },
  {
   "cell_type": "code",
   "execution_count": 9,
   "metadata": {},
   "outputs": [],
   "source": [
    "training_set = dataTrain.iloc[:,1:2].values"
   ]
  },
  {
   "cell_type": "code",
   "execution_count": 10,
   "metadata": {},
   "outputs": [
    {
     "data": {
      "text/plain": [
       "array([[325.25],\n",
       "       [331.27],\n",
       "       [329.83],\n",
       "       ...,\n",
       "       [793.7 ],\n",
       "       [783.33],\n",
       "       [782.75]])"
      ]
     },
     "execution_count": 10,
     "metadata": {},
     "output_type": "execute_result"
    }
   ],
   "source": [
    "training_set"
   ]
  },
  {
   "cell_type": "code",
   "execution_count": null,
   "metadata": {},
   "outputs": [],
   "source": []
  },
  {
   "cell_type": "code",
   "execution_count": null,
   "metadata": {},
   "outputs": [],
   "source": []
  },
  {
   "cell_type": "markdown",
   "metadata": {},
   "source": [
    "### Feature Scaling"
   ]
  },
  {
   "cell_type": "code",
   "execution_count": 11,
   "metadata": {},
   "outputs": [],
   "source": [
    "import numpy as np\n",
    "from sklearn.preprocessing import MinMaxScaler"
   ]
  },
  {
   "cell_type": "code",
   "execution_count": 12,
   "metadata": {},
   "outputs": [],
   "source": [
    "sc = MinMaxScaler(feature_range=(0,1))"
   ]
  },
  {
   "cell_type": "code",
   "execution_count": 13,
   "metadata": {},
   "outputs": [],
   "source": [
    "training_set_scaled = sc.fit_transform(training_set)"
   ]
  },
  {
   "cell_type": "code",
   "execution_count": 14,
   "metadata": {},
   "outputs": [
    {
     "data": {
      "text/plain": [
       "array([[0.08581368],\n",
       "       [0.09701243],\n",
       "       [0.09433366],\n",
       "       ...,\n",
       "       [0.95725128],\n",
       "       [0.93796041],\n",
       "       [0.93688146]])"
      ]
     },
     "execution_count": 14,
     "metadata": {},
     "output_type": "execute_result"
    }
   ],
   "source": [
    "training_set_scaled"
   ]
  },
  {
   "cell_type": "code",
   "execution_count": 15,
   "metadata": {},
   "outputs": [],
   "source": [
    "# len(training_set_scaled)"
   ]
  },
  {
   "cell_type": "markdown",
   "metadata": {},
   "source": [
    "### Creating data structure with timestampts and output"
   ]
  },
  {
   "cell_type": "code",
   "execution_count": 16,
   "metadata": {},
   "outputs": [],
   "source": [
    "X_train = []\n",
    "y_train = []"
   ]
  },
  {
   "cell_type": "code",
   "execution_count": 17,
   "metadata": {},
   "outputs": [],
   "source": [
    "for i in range(60,1258):\n",
    "    X_train.append(training_set_scaled[i-60:i,0])\n",
    "    y_train.append(training_set_scaled[i,0])"
   ]
  },
  {
   "cell_type": "code",
   "execution_count": null,
   "metadata": {},
   "outputs": [],
   "source": []
  },
  {
   "cell_type": "code",
   "execution_count": 18,
   "metadata": {},
   "outputs": [],
   "source": [
    "X_train, y_train = np.array(X_train), np.array(y_train)"
   ]
  },
  {
   "cell_type": "code",
   "execution_count": 19,
   "metadata": {},
   "outputs": [
    {
     "data": {
      "text/plain": [
       "0.08627874097775134"
      ]
     },
     "execution_count": 19,
     "metadata": {},
     "output_type": "execute_result"
    }
   ],
   "source": [
    "X_train[1][-1]"
   ]
  },
  {
   "cell_type": "code",
   "execution_count": 20,
   "metadata": {},
   "outputs": [
    {
     "data": {
      "text/plain": [
       "0.07454051640747084"
      ]
     },
     "execution_count": 20,
     "metadata": {},
     "output_type": "execute_result"
    }
   ],
   "source": [
    "y_train[2]"
   ]
  },
  {
   "cell_type": "code",
   "execution_count": 21,
   "metadata": {},
   "outputs": [
    {
     "data": {
      "text/plain": [
       "array([0.07454052])"
      ]
     },
     "execution_count": 21,
     "metadata": {},
     "output_type": "execute_result"
    }
   ],
   "source": [
    "training_set_scaled[62]"
   ]
  },
  {
   "cell_type": "code",
   "execution_count": 22,
   "metadata": {},
   "outputs": [
    {
     "data": {
      "text/plain": [
       "array([[0.08581368, 0.09701243, 0.09433366, ..., 0.07846566, 0.08034452,\n",
       "        0.08497656],\n",
       "       [0.09701243, 0.09433366, 0.09156187, ..., 0.08034452, 0.08497656,\n",
       "        0.08627874],\n",
       "       [0.09433366, 0.09156187, 0.07984225, ..., 0.08497656, 0.08627874,\n",
       "        0.08471612],\n",
       "       ...,\n",
       "       [0.92106928, 0.92438053, 0.93048218, ..., 0.95475854, 0.95204256,\n",
       "        0.95163331],\n",
       "       [0.92438053, 0.93048218, 0.9299055 , ..., 0.95204256, 0.95163331,\n",
       "        0.95725128],\n",
       "       [0.93048218, 0.9299055 , 0.93113327, ..., 0.95163331, 0.95725128,\n",
       "        0.93796041]])"
      ]
     },
     "execution_count": 22,
     "metadata": {},
     "output_type": "execute_result"
    }
   ],
   "source": [
    "X_train"
   ]
  },
  {
   "cell_type": "code",
   "execution_count": 23,
   "metadata": {},
   "outputs": [
    {
     "data": {
      "text/plain": [
       "(1198, 60)"
      ]
     },
     "execution_count": 23,
     "metadata": {},
     "output_type": "execute_result"
    }
   ],
   "source": [
    "X_train.shape"
   ]
  },
  {
   "cell_type": "code",
   "execution_count": 24,
   "metadata": {},
   "outputs": [],
   "source": [
    "X_train = np.reshape(X_train, (1198,60,1))"
   ]
  },
  {
   "cell_type": "code",
   "execution_count": 25,
   "metadata": {},
   "outputs": [
    {
     "data": {
      "text/plain": [
       "array([[[0.08581368],\n",
       "        [0.09701243],\n",
       "        [0.09433366],\n",
       "        ...,\n",
       "        [0.07846566],\n",
       "        [0.08034452],\n",
       "        [0.08497656]],\n",
       "\n",
       "       [[0.09701243],\n",
       "        [0.09433366],\n",
       "        [0.09156187],\n",
       "        ...,\n",
       "        [0.08034452],\n",
       "        [0.08497656],\n",
       "        [0.08627874]],\n",
       "\n",
       "       [[0.09433366],\n",
       "        [0.09156187],\n",
       "        [0.07984225],\n",
       "        ...,\n",
       "        [0.08497656],\n",
       "        [0.08627874],\n",
       "        [0.08471612]],\n",
       "\n",
       "       ...,\n",
       "\n",
       "       [[0.92106928],\n",
       "        [0.92438053],\n",
       "        [0.93048218],\n",
       "        ...,\n",
       "        [0.95475854],\n",
       "        [0.95204256],\n",
       "        [0.95163331]],\n",
       "\n",
       "       [[0.92438053],\n",
       "        [0.93048218],\n",
       "        [0.9299055 ],\n",
       "        ...,\n",
       "        [0.95204256],\n",
       "        [0.95163331],\n",
       "        [0.95725128]],\n",
       "\n",
       "       [[0.93048218],\n",
       "        [0.9299055 ],\n",
       "        [0.93113327],\n",
       "        ...,\n",
       "        [0.95163331],\n",
       "        [0.95725128],\n",
       "        [0.93796041]]])"
      ]
     },
     "execution_count": 25,
     "metadata": {},
     "output_type": "execute_result"
    }
   ],
   "source": [
    "X_train"
   ]
  },
  {
   "cell_type": "markdown",
   "metadata": {},
   "source": [
    "### Building a RNN"
   ]
  },
  {
   "cell_type": "code",
   "execution_count": 26,
   "metadata": {},
   "outputs": [
    {
     "name": "stderr",
     "output_type": "stream",
     "text": [
      "Using TensorFlow backend.\n"
     ]
    }
   ],
   "source": [
    "from keras.models import Sequential\n",
    "from keras.layers import Dense\n",
    "from keras.layers import LSTM\n",
    "from keras.layers import Dropout"
   ]
  },
  {
   "cell_type": "code",
   "execution_count": 178,
   "metadata": {},
   "outputs": [],
   "source": [
    "droput_rate = 0.1"
   ]
  },
  {
   "cell_type": "code",
   "execution_count": 179,
   "metadata": {},
   "outputs": [],
   "source": [
    "# Initializing the RNN\n",
    "regressor = Sequential()"
   ]
  },
  {
   "cell_type": "code",
   "execution_count": 180,
   "metadata": {},
   "outputs": [],
   "source": [
    "# Adding LSTM \n",
    "regressor.add(LSTM(units = 100, return_sequences=True, input_shape = (60,1)))\n",
    "# Adding Droput\n",
    "regressor.add(Dropout(rate = droput_rate))"
   ]
  },
  {
   "cell_type": "code",
   "execution_count": 181,
   "metadata": {},
   "outputs": [],
   "source": [
    "# Adding a second LSTM \n",
    "regressor.add(LSTM(units = 100, return_sequences=True))\n",
    "# Adding Droput\n",
    "regressor.add(Dropout(rate = droput_rate))"
   ]
  },
  {
   "cell_type": "code",
   "execution_count": 182,
   "metadata": {},
   "outputs": [],
   "source": [
    "# Adding a second LSTM \n",
    "regressor.add(LSTM(units = 100, return_sequences=True))\n",
    "# Adding Droput\n",
    "regressor.add(Dropout(rate = droput_rate))"
   ]
  },
  {
   "cell_type": "code",
   "execution_count": 183,
   "metadata": {},
   "outputs": [],
   "source": [
    "# Adding a third LSTM \n",
    "regressor.add(LSTM(units = 100, return_sequences=True))\n",
    "# Adding Droput\n",
    "regressor.add(Dropout(rate = droput_rate))"
   ]
  },
  {
   "cell_type": "code",
   "execution_count": 184,
   "metadata": {},
   "outputs": [],
   "source": [
    "# Adding a fourth LSTM \n",
    "regressor.add(LSTM(units = 100, return_sequences=False))\n",
    "# Adding Droput\n",
    "regressor.add(Dropout(rate = droput_rate))"
   ]
  },
  {
   "cell_type": "code",
   "execution_count": 185,
   "metadata": {},
   "outputs": [],
   "source": [
    "# Adding a output layer\n",
    "regressor.add(Dense(units = 1))"
   ]
  },
  {
   "cell_type": "code",
   "execution_count": null,
   "metadata": {},
   "outputs": [],
   "source": []
  },
  {
   "cell_type": "code",
   "execution_count": 186,
   "metadata": {},
   "outputs": [],
   "source": [
    "# Compiling the RNN"
   ]
  },
  {
   "cell_type": "code",
   "execution_count": 187,
   "metadata": {},
   "outputs": [],
   "source": [
    "regressor.compile(optimizer='adam', loss='mean_squared_error')"
   ]
  },
  {
   "cell_type": "code",
   "execution_count": null,
   "metadata": {},
   "outputs": [],
   "source": []
  },
  {
   "cell_type": "code",
   "execution_count": 188,
   "metadata": {},
   "outputs": [],
   "source": [
    "# Fitting the RNN"
   ]
  },
  {
   "cell_type": "code",
   "execution_count": 189,
   "metadata": {
    "scrolled": false
   },
   "outputs": [
    {
     "name": "stdout",
     "output_type": "stream",
     "text": [
      "Epoch 1/100\n",
      "1198/1198 [==============================] - 13s 11ms/step - loss: 0.0483\n",
      "Epoch 2/100\n",
      "1198/1198 [==============================] - 11s 9ms/step - loss: 0.0053\n",
      "Epoch 3/100\n",
      "1198/1198 [==============================] - 11s 9ms/step - loss: 0.0034\n",
      "Epoch 4/100\n",
      "1198/1198 [==============================] - 11s 9ms/step - loss: 0.0033\n",
      "Epoch 5/100\n",
      "1198/1198 [==============================] - 11s 9ms/step - loss: 0.0034\n",
      "Epoch 6/100\n",
      "1198/1198 [==============================] - 11s 9ms/step - loss: 0.0032\n",
      "Epoch 7/100\n",
      "1198/1198 [==============================] - 11s 9ms/step - loss: 0.0033\n",
      "Epoch 8/100\n",
      "1198/1198 [==============================] - 11s 9ms/step - loss: 0.0028\n",
      "Epoch 9/100\n",
      "1198/1198 [==============================] - 11s 9ms/step - loss: 0.0030\n",
      "Epoch 10/100\n",
      "1198/1198 [==============================] - 11s 9ms/step - loss: 0.0027\n",
      "Epoch 11/100\n",
      "1198/1198 [==============================] - 11s 9ms/step - loss: 0.0027\n",
      "Epoch 12/100\n",
      "1198/1198 [==============================] - 11s 9ms/step - loss: 0.0026\n",
      "Epoch 13/100\n",
      "1198/1198 [==============================] - 11s 9ms/step - loss: 0.0027\n",
      "Epoch 14/100\n",
      "1198/1198 [==============================] - 11s 9ms/step - loss: 0.0028\n",
      "Epoch 15/100\n",
      "1198/1198 [==============================] - 11s 9ms/step - loss: 0.0024\n",
      "Epoch 16/100\n",
      "1198/1198 [==============================] - 11s 9ms/step - loss: 0.0024\n",
      "Epoch 17/100\n",
      "1198/1198 [==============================] - 11s 9ms/step - loss: 0.0029\n",
      "Epoch 18/100\n",
      "1198/1198 [==============================] - 11s 9ms/step - loss: 0.0033\n",
      "Epoch 19/100\n",
      "1198/1198 [==============================] - 11s 9ms/step - loss: 0.0021\n",
      "Epoch 20/100\n",
      "1198/1198 [==============================] - 11s 9ms/step - loss: 0.0024\n",
      "Epoch 21/100\n",
      "1198/1198 [==============================] - 11s 9ms/step - loss: 0.0026\n",
      "Epoch 22/100\n",
      "1198/1198 [==============================] - 11s 9ms/step - loss: 0.0024\n",
      "Epoch 23/100\n",
      "1198/1198 [==============================] - 11s 9ms/step - loss: 0.0023\n",
      "Epoch 24/100\n",
      "1198/1198 [==============================] - 11s 9ms/step - loss: 0.0023\n",
      "Epoch 25/100\n",
      "1198/1198 [==============================] - 11s 9ms/step - loss: 0.0024\n",
      "Epoch 26/100\n",
      "1198/1198 [==============================] - 11s 9ms/step - loss: 0.0022\n",
      "Epoch 27/100\n",
      "1198/1198 [==============================] - 11s 9ms/step - loss: 0.0029\n",
      "Epoch 28/100\n",
      "1198/1198 [==============================] - 11s 9ms/step - loss: 0.0021\n",
      "Epoch 29/100\n",
      "1198/1198 [==============================] - 11s 9ms/step - loss: 0.0027\n",
      "Epoch 30/100\n",
      "1198/1198 [==============================] - 11s 9ms/step - loss: 0.0019\n",
      "Epoch 31/100\n",
      "1198/1198 [==============================] - 11s 9ms/step - loss: 0.0023\n",
      "Epoch 32/100\n",
      "1198/1198 [==============================] - 11s 9ms/step - loss: 0.0022\n",
      "Epoch 33/100\n",
      "1198/1198 [==============================] - 11s 9ms/step - loss: 0.0016\n",
      "Epoch 34/100\n",
      "1198/1198 [==============================] - 11s 9ms/step - loss: 0.0019\n",
      "Epoch 35/100\n",
      "1198/1198 [==============================] - 11s 9ms/step - loss: 0.0022\n",
      "Epoch 36/100\n",
      "1198/1198 [==============================] - 11s 9ms/step - loss: 0.0017\n",
      "Epoch 37/100\n",
      "1198/1198 [==============================] - 11s 9ms/step - loss: 0.0019\n",
      "Epoch 38/100\n",
      "1198/1198 [==============================] - 11s 9ms/step - loss: 0.0018\n",
      "Epoch 39/100\n",
      "1198/1198 [==============================] - 11s 9ms/step - loss: 0.0021\n",
      "Epoch 40/100\n",
      "1198/1198 [==============================] - 11s 9ms/step - loss: 0.0018\n",
      "Epoch 41/100\n",
      "1198/1198 [==============================] - 11s 9ms/step - loss: 0.0016\n",
      "Epoch 42/100\n",
      "1198/1198 [==============================] - 11s 9ms/step - loss: 0.0016\n",
      "Epoch 43/100\n",
      "1198/1198 [==============================] - 11s 9ms/step - loss: 0.0014\n",
      "Epoch 44/100\n",
      "1198/1198 [==============================] - 11s 9ms/step - loss: 0.0015\n",
      "Epoch 45/100\n",
      "1198/1198 [==============================] - 11s 9ms/step - loss: 0.0019\n",
      "Epoch 46/100\n",
      "1198/1198 [==============================] - 11s 9ms/step - loss: 0.0016\n",
      "Epoch 47/100\n",
      "1198/1198 [==============================] - 11s 9ms/step - loss: 0.0014\n",
      "Epoch 48/100\n",
      "1198/1198 [==============================] - 11s 9ms/step - loss: 0.0015\n",
      "Epoch 49/100\n",
      "1198/1198 [==============================] - 11s 9ms/step - loss: 0.0018\n",
      "Epoch 50/100\n",
      "1198/1198 [==============================] - 11s 9ms/step - loss: 0.0014\n",
      "Epoch 51/100\n",
      "1198/1198 [==============================] - 11s 9ms/step - loss: 0.0017\n",
      "Epoch 52/100\n",
      "1198/1198 [==============================] - 11s 9ms/step - loss: 0.0015\n",
      "Epoch 53/100\n",
      "1198/1198 [==============================] - 11s 9ms/step - loss: 0.0014\n",
      "Epoch 54/100\n",
      "1198/1198 [==============================] - 11s 9ms/step - loss: 0.0013\n",
      "Epoch 55/100\n",
      "1198/1198 [==============================] - 11s 9ms/step - loss: 0.0014\n",
      "Epoch 56/100\n",
      "1198/1198 [==============================] - 11s 9ms/step - loss: 0.0012\n",
      "Epoch 57/100\n",
      "1198/1198 [==============================] - 11s 9ms/step - loss: 0.0012\n",
      "Epoch 58/100\n",
      "1198/1198 [==============================] - 11s 9ms/step - loss: 0.0012\n",
      "Epoch 59/100\n",
      "1198/1198 [==============================] - 12s 10ms/step - loss: 0.0012\n",
      "Epoch 60/100\n",
      "1198/1198 [==============================] - 12s 10ms/step - loss: 0.0012\n",
      "Epoch 61/100\n",
      "1198/1198 [==============================] - 12s 10ms/step - loss: 0.0016\n",
      "Epoch 62/100\n",
      "1198/1198 [==============================] - 11s 9ms/step - loss: 0.0012\n",
      "Epoch 63/100\n",
      "1198/1198 [==============================] - 10s 9ms/step - loss: 0.0011\n",
      "Epoch 64/100\n",
      "1198/1198 [==============================] - 1747s 1s/step - loss: 0.0011\n",
      "Epoch 65/100\n",
      "1198/1198 [==============================] - 12s 10ms/step - loss: 0.0011\n",
      "Epoch 66/100\n",
      "1198/1198 [==============================] - 11s 9ms/step - loss: 0.0012\n",
      "Epoch 67/100\n",
      "1198/1198 [==============================] - 11s 9ms/step - loss: 0.0012\n",
      "Epoch 68/100\n",
      "1198/1198 [==============================] - 11s 9ms/step - loss: 0.0011\n",
      "Epoch 69/100\n",
      "1198/1198 [==============================] - 13s 11ms/step - loss: 0.0011\n",
      "Epoch 70/100\n",
      "1198/1198 [==============================] - 11s 9ms/step - loss: 0.0011\n",
      "Epoch 71/100\n",
      "1198/1198 [==============================] - 11s 9ms/step - loss: 9.8349e-04\n",
      "Epoch 72/100\n",
      "1198/1198 [==============================] - 11s 9ms/step - loss: 0.0011\n",
      "Epoch 73/100\n",
      "1198/1198 [==============================] - 11s 9ms/step - loss: 0.0011\n",
      "Epoch 74/100\n",
      "1198/1198 [==============================] - 12s 10ms/step - loss: 0.0011\n",
      "Epoch 75/100\n",
      "1198/1198 [==============================] - 11s 9ms/step - loss: 0.0011\n",
      "Epoch 76/100\n",
      "1198/1198 [==============================] - 11s 9ms/step - loss: 9.6057e-04\n",
      "Epoch 77/100\n",
      "1198/1198 [==============================] - 11s 9ms/step - loss: 0.0011\n",
      "Epoch 78/100\n",
      "1198/1198 [==============================] - 11s 9ms/step - loss: 9.2373e-04\n",
      "Epoch 79/100\n",
      "1198/1198 [==============================] - 11s 9ms/step - loss: 0.0012\n",
      "Epoch 80/100\n",
      "1198/1198 [==============================] - 11s 9ms/step - loss: 9.2967e-04\n",
      "Epoch 81/100\n",
      "1198/1198 [==============================] - 11s 9ms/step - loss: 9.9046e-04\n",
      "Epoch 82/100\n",
      "1198/1198 [==============================] - 11s 9ms/step - loss: 0.0013\n",
      "Epoch 83/100\n",
      "1198/1198 [==============================] - 11s 9ms/step - loss: 0.0012\n",
      "Epoch 84/100\n",
      "1198/1198 [==============================] - 11s 9ms/step - loss: 0.0010\n",
      "Epoch 85/100\n",
      "1198/1198 [==============================] - 11s 9ms/step - loss: 0.0010\n",
      "Epoch 86/100\n",
      "1198/1198 [==============================] - 11s 9ms/step - loss: 9.9614e-04\n",
      "Epoch 87/100\n",
      "1198/1198 [==============================] - 11s 9ms/step - loss: 0.0011\n",
      "Epoch 88/100\n",
      "1198/1198 [==============================] - 11s 10ms/step - loss: 9.0468e-04\n",
      "Epoch 89/100\n",
      "1198/1198 [==============================] - 11s 9ms/step - loss: 0.0011\n",
      "Epoch 90/100\n",
      "1198/1198 [==============================] - 11s 9ms/step - loss: 8.8342e-04\n",
      "Epoch 91/100\n",
      "1198/1198 [==============================] - 11s 9ms/step - loss: 8.4141e-04\n",
      "Epoch 92/100\n",
      "1198/1198 [==============================] - 11s 9ms/step - loss: 9.0128e-04\n",
      "Epoch 93/100\n",
      "1198/1198 [==============================] - 11s 9ms/step - loss: 0.0011\n",
      "Epoch 94/100\n",
      "1198/1198 [==============================] - 11s 9ms/step - loss: 9.6592e-04\n",
      "Epoch 95/100\n"
     ]
    },
    {
     "name": "stdout",
     "output_type": "stream",
     "text": [
      "1198/1198 [==============================] - 11s 9ms/step - loss: 8.4061e-04\n",
      "Epoch 96/100\n",
      "1198/1198 [==============================] - 11s 9ms/step - loss: 8.7699e-04\n",
      "Epoch 97/100\n",
      "1198/1198 [==============================] - 12s 10ms/step - loss: 9.9014e-04\n",
      "Epoch 98/100\n",
      "1198/1198 [==============================] - 12s 10ms/step - loss: 8.8734e-04\n",
      "Epoch 99/100\n",
      "1198/1198 [==============================] - 12s 10ms/step - loss: 9.7214e-04\n",
      "Epoch 100/100\n",
      "1198/1198 [==============================] - 11s 9ms/step - loss: 9.6039e-04\n"
     ]
    },
    {
     "data": {
      "text/plain": [
       "<keras.callbacks.callbacks.History at 0x7fea837fcfd0>"
      ]
     },
     "execution_count": 189,
     "metadata": {},
     "output_type": "execute_result"
    }
   ],
   "source": [
    "regressor.fit(X_train, y_train, epochs = 100, batch_size = 32)"
   ]
  },
  {
   "cell_type": "code",
   "execution_count": 39,
   "metadata": {},
   "outputs": [],
   "source": [
    "# reg20 = regressor"
   ]
  },
  {
   "cell_type": "code",
   "execution_count": null,
   "metadata": {},
   "outputs": [],
   "source": []
  },
  {
   "cell_type": "markdown",
   "metadata": {},
   "source": [
    "### Extracting data for test"
   ]
  },
  {
   "cell_type": "code",
   "execution_count": 190,
   "metadata": {},
   "outputs": [
    {
     "data": {
      "text/plain": [
       "array([[778.81],\n",
       "       [788.36],\n",
       "       [786.08],\n",
       "       [795.26],\n",
       "       [806.4 ],\n",
       "       [807.86],\n",
       "       [805.  ],\n",
       "       [807.14],\n",
       "       [807.48],\n",
       "       [807.08],\n",
       "       [805.81],\n",
       "       [805.12],\n",
       "       [806.91],\n",
       "       [807.25],\n",
       "       [822.3 ],\n",
       "       [829.62],\n",
       "       [837.81],\n",
       "       [834.71],\n",
       "       [814.66],\n",
       "       [796.86]])"
      ]
     },
     "execution_count": 190,
     "metadata": {},
     "output_type": "execute_result"
    }
   ],
   "source": [
    "test_set = dataTest.iloc[:,1:2].values\n",
    "\n",
    "test_set"
   ]
  },
  {
   "cell_type": "code",
   "execution_count": null,
   "metadata": {},
   "outputs": [],
   "source": []
  },
  {
   "cell_type": "code",
   "execution_count": 191,
   "metadata": {},
   "outputs": [],
   "source": [
    "dataset_total = pd.concat((dataTrain['Open'], dataTest['Open']), axis = 0)"
   ]
  },
  {
   "cell_type": "code",
   "execution_count": 192,
   "metadata": {},
   "outputs": [],
   "source": [
    "inputs = dataset_total[len(dataset_total)-len(dataTest)-60:].values"
   ]
  },
  {
   "cell_type": "code",
   "execution_count": 193,
   "metadata": {},
   "outputs": [],
   "source": [
    "inputs = inputs.reshape(-1,1)"
   ]
  },
  {
   "cell_type": "code",
   "execution_count": 194,
   "metadata": {},
   "outputs": [],
   "source": [
    "inputs = sc.transform(inputs)"
   ]
  },
  {
   "cell_type": "code",
   "execution_count": 195,
   "metadata": {},
   "outputs": [],
   "source": [
    "X_test = []\n",
    "for i in range(60,80):\n",
    "    X_test.append(inputs[i-60:i,0])"
   ]
  },
  {
   "cell_type": "code",
   "execution_count": 196,
   "metadata": {},
   "outputs": [],
   "source": [
    "X_test = np.array(X_test)"
   ]
  },
  {
   "cell_type": "code",
   "execution_count": null,
   "metadata": {},
   "outputs": [],
   "source": []
  },
  {
   "cell_type": "code",
   "execution_count": 171,
   "metadata": {},
   "outputs": [
    {
     "data": {
      "text/plain": [
       "array([[0.9299055 , 0.93113327, 0.92750577, ..., 0.95725128, 0.93796041,\n",
       "        0.93688146],\n",
       "       [0.93113327, 0.92750577, 0.94415507, ..., 0.93796041, 0.93688146,\n",
       "        0.92955205],\n",
       "       [0.92750577, 0.94415507, 0.93876032, ..., 0.93688146, 0.92955205,\n",
       "        0.94731751],\n",
       "       ...,\n",
       "       [0.96054394, 0.9371419 , 0.92841729, ..., 1.01045465, 1.02407173,\n",
       "        1.03930724],\n",
       "       [0.9371419 , 0.92841729, 0.90804747, ..., 1.02407173, 1.03930724,\n",
       "        1.03354044],\n",
       "       [0.92841729, 0.90804747, 0.8771858 , ..., 1.03930724, 1.03354044,\n",
       "        0.99624228]])"
      ]
     },
     "execution_count": 171,
     "metadata": {},
     "output_type": "execute_result"
    }
   ],
   "source": [
    "X_test"
   ]
  },
  {
   "cell_type": "code",
   "execution_count": 172,
   "metadata": {},
   "outputs": [
    {
     "data": {
      "text/plain": [
       "(20, 60)"
      ]
     },
     "execution_count": 172,
     "metadata": {},
     "output_type": "execute_result"
    }
   ],
   "source": [
    "X_test.shape"
   ]
  },
  {
   "cell_type": "code",
   "execution_count": null,
   "metadata": {},
   "outputs": [],
   "source": []
  },
  {
   "cell_type": "code",
   "execution_count": 197,
   "metadata": {},
   "outputs": [],
   "source": [
    "X_test = np.reshape(X_test, (20,60, 1))"
   ]
  },
  {
   "cell_type": "code",
   "execution_count": 150,
   "metadata": {},
   "outputs": [
    {
     "data": {
      "text/plain": [
       "array([[[0.9299055 ],\n",
       "        [0.93113327],\n",
       "        [0.92750577],\n",
       "        ...,\n",
       "        [0.95725128],\n",
       "        [0.93796041],\n",
       "        [0.93688146]],\n",
       "\n",
       "       [[0.93113327],\n",
       "        [0.92750577],\n",
       "        [0.94415507],\n",
       "        ...,\n",
       "        [0.93796041],\n",
       "        [0.93688146],\n",
       "        [0.92955205]],\n",
       "\n",
       "       [[0.92750577],\n",
       "        [0.94415507],\n",
       "        [0.93876032],\n",
       "        ...,\n",
       "        [0.93688146],\n",
       "        [0.92955205],\n",
       "        [0.94731751]],\n",
       "\n",
       "       ...,\n",
       "\n",
       "       [[0.96054394],\n",
       "        [0.9371419 ],\n",
       "        [0.92841729],\n",
       "        ...,\n",
       "        [1.01045465],\n",
       "        [1.02407173],\n",
       "        [1.03930724]],\n",
       "\n",
       "       [[0.9371419 ],\n",
       "        [0.92841729],\n",
       "        [0.90804747],\n",
       "        ...,\n",
       "        [1.02407173],\n",
       "        [1.03930724],\n",
       "        [1.03354044]],\n",
       "\n",
       "       [[0.92841729],\n",
       "        [0.90804747],\n",
       "        [0.8771858 ],\n",
       "        ...,\n",
       "        [1.03930724],\n",
       "        [1.03354044],\n",
       "        [0.99624228]]])"
      ]
     },
     "execution_count": 150,
     "metadata": {},
     "output_type": "execute_result"
    }
   ],
   "source": [
    "X_test"
   ]
  },
  {
   "cell_type": "code",
   "execution_count": null,
   "metadata": {},
   "outputs": [],
   "source": []
  },
  {
   "cell_type": "code",
   "execution_count": 163,
   "metadata": {},
   "outputs": [],
   "source": [
    "X_test = np.reshape(X_test[1],(1,60,1))"
   ]
  },
  {
   "cell_type": "code",
   "execution_count": 198,
   "metadata": {},
   "outputs": [
    {
     "data": {
      "text/plain": [
       "array([[789.69904],\n",
       "       [787.0986 ],\n",
       "       [791.29504],\n",
       "       [791.29663],\n",
       "       [795.4416 ],\n",
       "       [802.6429 ],\n",
       "       [804.8518 ],\n",
       "       [803.20447],\n",
       "       [804.0862 ],\n",
       "       [805.06445],\n",
       "       [805.45953],\n",
       "       [805.1973 ],\n",
       "       [805.1117 ],\n",
       "       [806.4583 ],\n",
       "       [807.269  ],\n",
       "       [816.21344],\n",
       "       [822.6752 ],\n",
       "       [828.4532 ],\n",
       "       [827.76495],\n",
       "       [816.5852 ]], dtype=float32)"
      ]
     },
     "execution_count": 198,
     "metadata": {},
     "output_type": "execute_result"
    }
   ],
   "source": [
    "predicted_stock_price = regressor.predict(X_test)\n",
    "predicted_stock_price = sc.inverse_transform(predicted_stock_price)\n",
    "predicted_stock_price"
   ]
  },
  {
   "cell_type": "code",
   "execution_count": 138,
   "metadata": {},
   "outputs": [],
   "source": [
    "for i in range(0,58):\n",
    "    X_test[0][i][0] = X_test[0][i+1][0]\n",
    "        \n",
    "    X_test[0][59][0] = predicted_stock_price[0][0]"
   ]
  },
  {
   "cell_type": "code",
   "execution_count": 165,
   "metadata": {},
   "outputs": [
    {
     "data": {
      "text/plain": [
       "array([[[0.93113327],\n",
       "        [0.92750577],\n",
       "        [0.94415507],\n",
       "        [0.93876032],\n",
       "        [0.93403527],\n",
       "        [0.93483518],\n",
       "        [0.9313937 ],\n",
       "        [0.94636878],\n",
       "        [0.96569685],\n",
       "        [0.97510976],\n",
       "        [0.95966962],\n",
       "        [0.97808617],\n",
       "        [1.        ],\n",
       "        [0.98076494],\n",
       "        [0.97083116],\n",
       "        [0.98450406],\n",
       "        [0.96054394],\n",
       "        [0.9371419 ],\n",
       "        [0.92841729],\n",
       "        [0.90804747],\n",
       "        [0.8771858 ],\n",
       "        [0.92153434],\n",
       "        [0.93809063],\n",
       "        [0.93165414],\n",
       "        [0.95254483],\n",
       "        [0.88812412],\n",
       "        [0.88637547],\n",
       "        [0.87032145],\n",
       "        [0.88563137],\n",
       "        [0.90743359],\n",
       "        [0.91571173],\n",
       "        [0.89941588],\n",
       "        [0.91805566],\n",
       "        [0.9089404 ],\n",
       "        [0.9024853 ],\n",
       "        [0.89456061],\n",
       "        [0.91600938],\n",
       "        [0.9132934 ],\n",
       "        [0.88979835],\n",
       "        [0.86589404],\n",
       "        [0.89030062],\n",
       "        [0.90335962],\n",
       "        [0.89642086],\n",
       "        [0.91777662],\n",
       "        [0.93176576],\n",
       "        [0.94114145],\n",
       "        [0.95762334],\n",
       "        [0.96413424],\n",
       "        [0.96402262],\n",
       "        [0.96971501],\n",
       "        [0.95077759],\n",
       "        [0.96294367],\n",
       "        [0.96123223],\n",
       "        [0.95475854],\n",
       "        [0.95204256],\n",
       "        [0.95163331],\n",
       "        [0.95725128],\n",
       "        [0.93796041],\n",
       "        [0.93688146],\n",
       "        [0.92955205]]])"
      ]
     },
     "execution_count": 165,
     "metadata": {},
     "output_type": "execute_result"
    }
   ],
   "source": [
    "X_t = X_test.copy()\n",
    "X_t"
   ]
  },
  {
   "cell_type": "code",
   "execution_count": 166,
   "metadata": {},
   "outputs": [],
   "source": [
    "predicted = []\n",
    "for i in range(0,20):\n",
    "    predicted_stock_price = regressor.predict(X_t)\n",
    "    predicted.append(sc.inverse_transform(predicted_stock_price))\n",
    "    \n",
    "    for i in range(0,58):\n",
    "        X_t[0][i][0] = X_t[0][i+1][0]\n",
    "        \n",
    "    X_t[0][59][0] = predicted_stock_price[0][0]\n",
    "\n",
    "    "
   ]
  },
  {
   "cell_type": "code",
   "execution_count": 168,
   "metadata": {},
   "outputs": [
    {
     "data": {
      "text/plain": [
       "[array([[788.165]], dtype=float32),\n",
       " array([[791.0649]], dtype=float32),\n",
       " array([[791.876]], dtype=float32),\n",
       " array([[791.92944]], dtype=float32),\n",
       " array([[791.6741]], dtype=float32),\n",
       " array([[791.3102]], dtype=float32),\n",
       " array([[790.9511]], dtype=float32),\n",
       " array([[790.658]], dtype=float32),\n",
       " array([[790.45386]], dtype=float32),\n",
       " array([[790.3371]], dtype=float32),\n",
       " array([[790.2936]], dtype=float32),\n",
       " array([[790.3057]], dtype=float32),\n",
       " array([[790.3553]], dtype=float32),\n",
       " array([[790.42725]], dtype=float32),\n",
       " array([[790.5118]], dtype=float32),\n",
       " array([[790.6008]], dtype=float32),\n",
       " array([[790.6879]], dtype=float32),\n",
       " array([[790.7708]], dtype=float32),\n",
       " array([[790.84705]], dtype=float32),\n",
       " array([[790.91504]], dtype=float32)]"
      ]
     },
     "execution_count": 168,
     "metadata": {},
     "output_type": "execute_result"
    }
   ],
   "source": [
    "predicted"
   ]
  },
  {
   "cell_type": "code",
   "execution_count": 153,
   "metadata": {},
   "outputs": [
    {
     "data": {
      "text/plain": [
       "[array([[790.927]], dtype=float32),\n",
       " array([[792.76324]], dtype=float32),\n",
       " array([[792.9841]], dtype=float32),\n",
       " array([[792.82214]], dtype=float32),\n",
       " array([[792.5204]], dtype=float32),\n",
       " array([[792.1414]], dtype=float32),\n",
       " array([[791.7446]], dtype=float32),\n",
       " array([[791.3874]], dtype=float32),\n",
       " array([[791.10736]], dtype=float32),\n",
       " array([[790.9176]], dtype=float32),\n",
       " array([[790.8125]], dtype=float32),\n",
       " array([[790.77704]], dtype=float32),\n",
       " array([[790.7941]], dtype=float32),\n",
       " array([[790.8459]], dtype=float32),\n",
       " array([[790.9186]], dtype=float32),\n",
       " array([[791.003]], dtype=float32),\n",
       " array([[791.0913]], dtype=float32),\n",
       " array([[791.17773]], dtype=float32),\n",
       " array([[791.2597]], dtype=float32),\n",
       " array([[791.3356]], dtype=float32)]"
      ]
     },
     "execution_count": 153,
     "metadata": {},
     "output_type": "execute_result"
    }
   ],
   "source": [
    "predicted"
   ]
  },
  {
   "cell_type": "code",
   "execution_count": null,
   "metadata": {},
   "outputs": [],
   "source": []
  },
  {
   "cell_type": "code",
   "execution_count": 123,
   "metadata": {},
   "outputs": [
    {
     "data": {
      "text/plain": [
       "0.9368814643946723"
      ]
     },
     "execution_count": 123,
     "metadata": {},
     "output_type": "execute_result"
    }
   ],
   "source": [
    "X_test[0][59][0]"
   ]
  },
  {
   "cell_type": "code",
   "execution_count": 176,
   "metadata": {},
   "outputs": [],
   "source": [
    "predicted_stock_price = regressor.predict(X_test)\n",
    "predicted_stock_price = sc.inverse_transform(predicted_stock_price)"
   ]
  },
  {
   "cell_type": "code",
   "execution_count": null,
   "metadata": {},
   "outputs": [],
   "source": []
  },
  {
   "cell_type": "code",
   "execution_count": 159,
   "metadata": {},
   "outputs": [
    {
     "data": {
      "text/plain": [
       "[array([[790.927]], dtype=float32),\n",
       " array([[792.76324]], dtype=float32),\n",
       " array([[792.9841]], dtype=float32),\n",
       " array([[792.82214]], dtype=float32),\n",
       " array([[792.5204]], dtype=float32),\n",
       " array([[792.1414]], dtype=float32),\n",
       " array([[791.7446]], dtype=float32),\n",
       " array([[791.3874]], dtype=float32),\n",
       " array([[791.10736]], dtype=float32),\n",
       " array([[790.9176]], dtype=float32),\n",
       " array([[790.8125]], dtype=float32),\n",
       " array([[790.77704]], dtype=float32),\n",
       " array([[790.7941]], dtype=float32),\n",
       " array([[790.8459]], dtype=float32),\n",
       " array([[790.9186]], dtype=float32),\n",
       " array([[791.003]], dtype=float32),\n",
       " array([[791.0913]], dtype=float32),\n",
       " array([[791.17773]], dtype=float32),\n",
       " array([[791.2597]], dtype=float32),\n",
       " array([[791.3356]], dtype=float32)]"
      ]
     },
     "execution_count": 159,
     "metadata": {},
     "output_type": "execute_result"
    }
   ],
   "source": [
    "predicted"
   ]
  },
  {
   "cell_type": "code",
   "execution_count": 203,
   "metadata": {},
   "outputs": [
    {
     "data": {
      "image/png": "[encoded data removed]",
      "text/plain": [
       "<Figure size 720x720 with 1 Axes>"
      ]
     },
     "metadata": {
      "needs_background": "light"
     },
     "output_type": "display_data"
    }
   ],
   "source": [
    "plt.figure(figsize=(10,10))\n",
    "plt.plot(dataTest.Open, label = \"Actual stock price\", color = \"green\")\n",
    "plt.plot(predicted_stock_price ,label= \"Predicted stock price\", color = \"red\")\n",
    "plt.title(\"Stock price prediction\")\n",
    "plt.xlabel(\"Time\")\n",
    "plt.ylabel(\"Stock price\")\n",
    "plt.legend()\n",
    "plt.savefig('stock.png')\n",
    "plt.show()"
   ]
  },
  {
   "cell_type": "code",
   "execution_count": null,
   "metadata": {},
   "outputs": [],
   "source": []
  }
 ],
 "metadata": {
  "kernelspec": {
   "display_name": "Python 3",
   "language": "python",
   "name": "python3"
  },
  "language_info": {
   "codemirror_mode": {
    "name": "ipython",
    "version": 3
   },
   "file_extension": ".py",
   "mimetype": "text/x-python",
   "name": "python",
   "nbconvert_exporter": "python",
   "pygments_lexer": "ipython3",
   "version": "3.7.4"
  }
 },
 "nbformat": 4,
 "nbformat_minor": 2
}
